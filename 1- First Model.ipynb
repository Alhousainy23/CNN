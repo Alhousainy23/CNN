{
 "cells": [
  {
   "cell_type": "code",
   "execution_count": 2,
   "metadata": {},
   "outputs": [],
   "source": [
    "import tensorflow as tf       \n",
    "tf.compat.v1.disable_eager_execution()\n",
    "#Load Data \n",
    "mnist = tf.keras.datasets.mnist  \n",
    "(x_train,y_train),(x_test,y_test) = mnist.load_data()"
   ]
  },
  {
   "attachments": {},
   "cell_type": "markdown",
   "metadata": {},
   "source": [
    "# Build Neural Networks"
   ]
  },
  {
   "cell_type": "code",
   "execution_count": 4,
   "metadata": {},
   "outputs": [],
   "source": [
    "model =tf.compat.v1.keras.models.Sequential([\n",
    "    tf.keras.layers.Flatten(input_shape=(28,28)),\n",
    "    tf.keras.layers.Dense(512,activation=tf.nn.relu),\n",
    "    tf.keras.layers.Dropout(0.2),\n",
    "    tf.keras.layers.Dense(10,activation=tf.nn.softmax)\n",
    "])\n",
    "model.compile(optimizer='adam',loss='sparse_categorical_crossentropy',metrics=['accuracy'])"
   ]
  },
  {
   "attachments": {},
   "cell_type": "markdown",
   "metadata": {},
   "source": [
    "# Train Model"
   ]
  },
  {
   "cell_type": "code",
   "execution_count": 6,
   "metadata": {},
   "outputs": [
    {
     "name": "stdout",
     "output_type": "stream",
     "text": [
      "Train on 60000 samples\n",
      "Epoch 1/50\n",
      "60000/60000 [==============================] - 9s 152us/sample - loss: 11.2960 - accuracy: 0.2991\n",
      "Epoch 2/50\n",
      "60000/60000 [==============================] - 9s 156us/sample - loss: 11.4089 - accuracy: 0.2921\n",
      "Epoch 3/50\n",
      "60000/60000 [==============================] - 9s 149us/sample - loss: 11.4293 - accuracy: 0.2909\n",
      "Epoch 4/50\n",
      "60000/60000 [==============================] - 9s 147us/sample - loss: 11.4154 - accuracy: 0.2918\n",
      "Epoch 5/50\n",
      "60000/60000 [==============================] - 9s 157us/sample - loss: 11.3399 - accuracy: 0.2964\n",
      "Epoch 6/50\n",
      "60000/60000 [==============================] - 10s 159us/sample - loss: 11.3901 - accuracy: 0.2933\n",
      "Epoch 7/50\n",
      "60000/60000 [==============================] - 9s 153us/sample - loss: 11.3416 - accuracy: 0.2963\n",
      "Epoch 8/50\n",
      "60000/60000 [==============================] - 9s 152us/sample - loss: 11.1050 - accuracy: 0.3109\n",
      "Epoch 9/50\n",
      "60000/60000 [==============================] - 9s 157us/sample - loss: 10.9789 - accuracy: 0.3188\n",
      "Epoch 10/50\n",
      "60000/60000 [==============================] - 9s 149us/sample - loss: 10.7563 - accuracy: 0.3326\n",
      "Epoch 11/50\n",
      "60000/60000 [==============================] - 10s 161us/sample - loss: 10.7576 - accuracy: 0.3325\n",
      "Epoch 12/50\n",
      "60000/60000 [==============================] - 10s 164us/sample - loss: 10.6435 - accuracy: 0.3395\n",
      "Epoch 13/50\n",
      "60000/60000 [==============================] - 10s 160us/sample - loss: 10.5183 - accuracy: 0.3474\n",
      "Epoch 14/50\n",
      "60000/60000 [==============================] - 9s 154us/sample - loss: 10.5152 - accuracy: 0.3476\n",
      "Epoch 15/50\n",
      "60000/60000 [==============================] - 10s 162us/sample - loss: 10.3778 - accuracy: 0.3561\n",
      "Epoch 16/50\n",
      "60000/60000 [==============================] - 10s 158us/sample - loss: 10.3088 - accuracy: 0.3604\n",
      "Epoch 17/50\n",
      "60000/60000 [==============================] - 10s 166us/sample - loss: 10.1279 - accuracy: 0.3716\n",
      "Epoch 18/50\n",
      "60000/60000 [==============================] - 10s 164us/sample - loss: 10.3422 - accuracy: 0.3583\n",
      "Epoch 19/50\n",
      "60000/60000 [==============================] - 10s 168us/sample - loss: 10.3439 - accuracy: 0.3582\n",
      "Epoch 20/50\n",
      "60000/60000 [==============================] - 10s 160us/sample - loss: 10.3982 - accuracy: 0.3548\n",
      "Epoch 21/50\n",
      "60000/60000 [==============================] - 10s 163us/sample - loss: 10.2937 - accuracy: 0.3613\n",
      "Epoch 22/50\n",
      "60000/60000 [==============================] - 10s 168us/sample - loss: 10.4026 - accuracy: 0.3545\n",
      "Epoch 23/50\n",
      "60000/60000 [==============================] - 10s 160us/sample - loss: 10.4763 - accuracy: 0.3500\n",
      "Epoch 24/50\n",
      "60000/60000 [==============================] - 9s 158us/sample - loss: 10.2103 - accuracy: 0.3665\n",
      "Epoch 25/50\n",
      "60000/60000 [==============================] - 10s 163us/sample - loss: 10.2323 - accuracy: 0.3651\n",
      "Epoch 26/50\n",
      "60000/60000 [==============================] - 10s 167us/sample - loss: 10.3300 - accuracy: 0.3591\n",
      "Epoch 27/50\n",
      "60000/60000 [==============================] - 10s 165us/sample - loss: 10.2819 - accuracy: 0.3621\n",
      "Epoch 28/50\n",
      "60000/60000 [==============================] - 10s 167us/sample - loss: 10.2253 - accuracy: 0.3655\n",
      "Epoch 29/50\n",
      "60000/60000 [==============================] - 11s 179us/sample - loss: 10.1703 - accuracy: 0.3690\n",
      "Epoch 30/50\n",
      "60000/60000 [==============================] - 10s 174us/sample - loss: 10.2002 - accuracy: 0.3672\n",
      "Epoch 31/50\n",
      "60000/60000 [==============================] - 11s 182us/sample - loss: 10.1987 - accuracy: 0.3672\n",
      "Epoch 32/50\n",
      "60000/60000 [==============================] - 11s 184us/sample - loss: 10.1695 - accuracy: 0.3690\n",
      "Epoch 33/50\n",
      "60000/60000 [==============================] - 10s 162us/sample - loss: 10.2511 - accuracy: 0.3640\n",
      "Epoch 34/50\n",
      "60000/60000 [==============================] - 10s 159us/sample - loss: 10.0740 - accuracy: 0.3749\n",
      "Epoch 35/50\n",
      "60000/60000 [==============================] - 10s 165us/sample - loss: 10.3363 - accuracy: 0.3587\n",
      "Epoch 36/50\n",
      "60000/60000 [==============================] - 9s 149us/sample - loss: 10.1872 - accuracy: 0.3679\n",
      "Epoch 37/50\n",
      "60000/60000 [==============================] - 9s 151us/sample - loss: 10.1272 - accuracy: 0.3717\n",
      "Epoch 38/50\n",
      "60000/60000 [==============================] - 9s 149us/sample - loss: 10.2124 - accuracy: 0.3664\n",
      "Epoch 39/50\n",
      "60000/60000 [==============================] - 9s 156us/sample - loss: 10.3543 - accuracy: 0.3576\n",
      "Epoch 40/50\n",
      "60000/60000 [==============================] - 9s 149us/sample - loss: 10.1243 - accuracy: 0.3719\n",
      "Epoch 41/50\n",
      "60000/60000 [==============================] - 9s 143us/sample - loss: 10.1786 - accuracy: 0.3685\n",
      "Epoch 42/50\n",
      "60000/60000 [==============================] - 8s 136us/sample - loss: 10.0800 - accuracy: 0.3746\n",
      "Epoch 43/50\n",
      "60000/60000 [==============================] - 7s 124us/sample - loss: 10.0029 - accuracy: 0.3794\n",
      "Epoch 44/50\n",
      "60000/60000 [==============================] - 9s 145us/sample - loss: 10.1375 - accuracy: 0.3711\n",
      "Epoch 45/50\n",
      "60000/60000 [==============================] - 10s 167us/sample - loss: 10.1157 - accuracy: 0.3724\n",
      "Epoch 46/50\n",
      "60000/60000 [==============================] - 10s 163us/sample - loss: 10.1138 - accuracy: 0.3725\n",
      "Epoch 47/50\n",
      "60000/60000 [==============================] - 10s 158us/sample - loss: 10.0861 - accuracy: 0.3742\n",
      "Epoch 48/50\n",
      "60000/60000 [==============================] - 9s 148us/sample - loss: 10.0856 - accuracy: 0.3742\n",
      "Epoch 49/50\n",
      "60000/60000 [==============================] - 9s 156us/sample - loss: 9.9805 - accuracy: 0.3808\n",
      "Epoch 50/50\n",
      "60000/60000 [==============================] - 10s 167us/sample - loss: 9.9848 - accuracy: 0.3805\n"
     ]
    },
    {
     "data": {
      "text/plain": [
       "<keras.callbacks.History at 0x1698cce62c0>"
      ]
     },
     "execution_count": 6,
     "metadata": {},
     "output_type": "execute_result"
    }
   ],
   "source": [
    "model.fit(x_train,y_train,epochs=50)"
   ]
  },
  {
   "cell_type": "code",
   "execution_count": null,
   "metadata": {},
   "outputs": [],
   "source": []
  }
 ],
 "metadata": {
  "kernelspec": {
   "display_name": "Python 3",
   "language": "python",
   "name": "python3"
  },
  "language_info": {
   "codemirror_mode": {
    "name": "ipython",
    "version": 3
   },
   "file_extension": ".py",
   "mimetype": "text/x-python",
   "name": "python",
   "nbconvert_exporter": "python",
   "pygments_lexer": "ipython3",
   "version": "3.10.0"
  },
  "orig_nbformat": 4
 },
 "nbformat": 4,
 "nbformat_minor": 2
}
